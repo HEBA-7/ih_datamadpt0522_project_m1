{
 "cells": [
  {
   "cell_type": "markdown",
   "id": "ce7d9907",
   "metadata": {},
   "source": [
    "### dev_notebook_"
   ]
  },
  {
   "cell_type": "code",
   "execution_count": null,
   "id": "b94dc56b",
   "metadata": {},
   "outputs": [],
   "source": [
    "import os\n",
    "from dotenv import load_dotenv"
   ]
  },
  {
   "cell_type": "code",
   "execution_count": null,
   "id": "11b37e2f",
   "metadata": {},
   "outputs": [],
   "source": [
    "load_dotenv('.env')\n",
    "DATABASE_PASSWORD = os.environ.get(\"DATABASE_PASSWORD\")\n",
    "DATABASE_PASSWORD"
   ]
  }
 ],
 "metadata": {
  "kernelspec": {
   "display_name": "Python [conda env:.conda-ironhack]",
   "language": "python",
   "name": "conda-env-.conda-ironhack-py"
  },
  "language_info": {
   "codemirror_mode": {
    "name": "ipython",
    "version": 3
   },
   "file_extension": ".py",
   "mimetype": "text/x-python",
   "name": "python",
   "nbconvert_exporter": "python",
   "pygments_lexer": "ipython3",
   "version": "3.7.11"
  }
 },
 "nbformat": 4,
 "nbformat_minor": 5
}
